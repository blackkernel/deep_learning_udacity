{
 "cells": [
  {
   "cell_type": "code",
   "execution_count": 4,
   "metadata": {},
   "outputs": [],
   "source": [
    "import torch\n",
    "from torch.utils.data import DataLoader\n",
    "from torchvision import transforms\n",
    "from torchvision import datasets\n",
    "from torchvision.transforms import ToTensor\n",
    "import matplotlib.pyplot as plt"
   ]
  },
  {
   "cell_type": "code",
   "execution_count": 6,
   "metadata": {},
   "outputs": [],
   "source": [
    "# Create a 3 x 3 tensor of all zeros\n",
    "zero_tensor = torch.zeros(3,3)\n",
    "\n",
    "# Create a 5 x 5 x 5 tensor of all ones\n",
    "ones_tensor = torch.ones(5,5,5)\n",
    "\n",
    "# Create a 2 x 4 x 6 x 8 tensor with random values\n",
    "rand_tensor = torch.rand(2,4,6,8)"
   ]
  },
  {
   "cell_type": "code",
   "execution_count": 7,
   "metadata": {},
   "outputs": [
    {
     "name": "stdout",
     "output_type": "stream",
     "text": [
      "Great work!\n"
     ]
    }
   ],
   "source": [
    "# Grading code. Run this cell to test your code!\n",
    "\n",
    "assert torch.is_tensor(zero_tensor), \"Your zero tensor is not a tensor!\"\n",
    "assert zero_tensor.shape == (3, 3), f\"Your zero tensor should have shape (3, 3). It has shape {zero_tensor.shape}.\"\n",
    "assert torch.sum(zero_tensor) == 0, \"Your zero tensor contains nonzero elements!\"\n",
    "\n",
    "assert torch.is_tensor(ones_tensor), \"Your ones tensor is not a tensor!\" \n",
    "assert ones_tensor.shape == (5, 5, 5), f\"Your ones tensor should have shape (5, 5, 5). It has shape {ones_tensor.shape}.\"\n",
    "assert torch.sum(ones_tensor) == 5 * 5 * 5, \"Your ones tensor contains non-one elements!\"\n",
    "\n",
    "assert torch.is_tensor(rand_tensor), \"Your random tensor is not a tensor!\"\n",
    "assert rand_tensor.shape == (2, 4, 6, 8), f\"Your random tensor should have shape (2, 4, 6, 8). It has shape {rand_tensor.shape}.\"\n",
    "\n",
    "print(\"Great work!\")"
   ]
  },
  {
   "cell_type": "markdown",
   "metadata": {},
   "source": [
    "Creating tensors from Data\n",
    "In the cell below, you will create a tensor with specific values and data type.\n",
    "\n",
    "Your tensor should be a 4 x 4 matrix that looks like this:\n",
    "\n",
    "| 0.5 0.5 0.5 0.5 |\n",
    "\n",
    "| 0.0 0.5 0.5 0.5 |\n",
    "\n",
    "| 0.0 0.0 0.5 0.5 |\n",
    "\n",
    "| 0.0 0.0 0.0. 0.5 |\n",
    "\n",
    "and you should set the dtype to a 16-bit floating point type, float16."
   ]
  },
  {
   "cell_type": "code",
   "execution_count": 15,
   "metadata": {},
   "outputs": [
    {
     "name": "stdout",
     "output_type": "stream",
     "text": [
      "tensor([[0.5000, 0.5000, 0.5000, 0.5000],\n",
      "        [0.0000, 0.5000, 0.5000, 0.5000],\n",
      "        [0.0000, 0.0000, 0.5000, 0.5000],\n",
      "        [0.0000, 0.0000, 0.0000, 0.5000]], dtype=torch.float16)\n"
     ]
    }
   ],
   "source": [
    "# Create your data as a list of lists\n",
    "data = [ [0.5, 0.5, 0.5, 0.5], [0.0, 0.5, 0.5, 0.5] , [0.0, 0.0, 0.5, 0.5], [0.0, 0.0, 0.0, 0.5] ]\n",
    "\n",
    "# Create your tensor from your data\n",
    "upper_triangular = torch.tensor(data, dtype=torch.float16)\n",
    "print(upper_triangular)"
   ]
  },
  {
   "cell_type": "code",
   "execution_count": 16,
   "metadata": {},
   "outputs": [
    {
     "name": "stdout",
     "output_type": "stream",
     "text": [
      "Great work!\n"
     ]
    }
   ],
   "source": [
    "# Grading code. Run this cell to test your code!\n",
    "\n",
    "assert torch.is_tensor(upper_triangular), \"Your upper triangular tensor is not a tensor!\"\n",
    "assert torch.sum(upper_triangular) == 5, \"Your upper triangular tensor doesn't appear to have the correct values.\"\n",
    "assert upper_triangular.shape == (4, 4), f\"Your upper triangular tensor should have shape (4, 4) but has shape {upper_triangular.shape}.\"\n",
    "assert upper_triangular.dtype == torch.float16, f\"Your upper triangular tensor should have datatype torch.float16, but has datatype {upper_triangular.dtype}.\"\n",
    "\n",
    "print(\"Great work!\")"
   ]
  },
  {
   "cell_type": "markdown",
   "metadata": {},
   "source": [
    "Datasets and DataLoaders\n",
    "Datasets and DataLoaders are key components for using data within PyTorch. In the cells below, you will load and visualize images from the CIFAR-10 dataset.\n",
    "\n",
    "Links: \n",
    "https://pytorch.org/vision/stable/generated/torchvision.datasets.CIFAR10.html#torchvision.datasets.CIFAR10\n",
    "https://pytorch.org/docs/stable/data.html#torch.utils.data.DataLoader\n",
    "\n",
    "NOTE: Make sure that you include the parameter transform=ToTensor() in your dataset!\n",
    "\n",
    "If you get stuck, consult the relevant documentation for CIFAR-10 or the DataLoader class"
   ]
  },
  {
   "cell_type": "code",
   "execution_count": null,
   "metadata": {},
   "outputs": [],
   "source": [
    "# This function will show us 5 images from our dataloader.\n",
    "# You may not want to modify this function, or it will not work.\n",
    "def show5(img_loader):\n",
    "    # The 10 classes in the dataset\n",
    "    classes = ('plane', 'car', 'bird', 'cat', 'deer', 'dog', 'frog', 'horse', 'ship', 'truck')\n",
    "    dataiter = iter(img_loader)\n",
    "    \n",
    "    batch = next(dataiter)\n",
    "    labels = batch[1][0:5]\n",
    "    images = batch[0][0:5]\n",
    "    for i in range(5):\n",
    "        print(classes[labels[i]])\n",
    "    \n",
    "        image = images[i].numpy()\n",
    "        plt.imshow(image.transpose(1,2,0))\n",
    "        plt.show()    \n",
    "\n",
    "\n",
    "# Create the training dataset\n",
    "#training_data = ## YOUR CODE HERE ##\n",
    "\n",
    "# Create the training dataloader with batch size 5\n",
    "#train_loader = ## YOUR CODE HERE ##\n",
    "\n",
    "# View 5 images using the show5 function\n",
    "#show5(train_loader)"
   ]
  }
 ],
 "metadata": {
  "kernelspec": {
   "display_name": "Python 3.9.13 ('deep_learning22')",
   "language": "python",
   "name": "python3"
  },
  "language_info": {
   "codemirror_mode": {
    "name": "ipython",
    "version": 3
   },
   "file_extension": ".py",
   "mimetype": "text/x-python",
   "name": "python",
   "nbconvert_exporter": "python",
   "pygments_lexer": "ipython3",
   "version": "3.9.13"
  },
  "orig_nbformat": 4,
  "vscode": {
   "interpreter": {
    "hash": "fe290f7ea9eb195bd8e947cfe5177999ddcf84c562995d726e3fbe3e305183b4"
   }
  }
 },
 "nbformat": 4,
 "nbformat_minor": 2
}
