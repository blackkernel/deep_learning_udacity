{
 "cells": [
  {
   "cell_type": "code",
   "execution_count": 4,
   "metadata": {},
   "outputs": [],
   "source": [
    "import torch\n",
    "from torch.utils.data import DataLoader\n",
    "from torchvision import transforms\n",
    "from torchvision import datasets\n",
    "from torchvision.transforms import ToTensor\n",
    "import matplotlib.pyplot as plt"
   ]
  },
  {
   "cell_type": "code",
   "execution_count": 5,
   "metadata": {},
   "outputs": [
    {
     "ename": "SyntaxError",
     "evalue": "invalid syntax (316310555.py, line 2)",
     "output_type": "error",
     "traceback": [
      "\u001b[0;36m  Cell \u001b[0;32mIn [5], line 2\u001b[0;36m\u001b[0m\n\u001b[0;31m    zero_tensor = ## YOUR CODE HERE ##\u001b[0m\n\u001b[0m                  ^\u001b[0m\n\u001b[0;31mSyntaxError\u001b[0m\u001b[0;31m:\u001b[0m invalid syntax\n"
     ]
    }
   ],
   "source": [
    "# Create a 3 x 3 tensor of all zeros\n",
    "zero_tensor = ## YOUR CODE HERE ##\n",
    "\n",
    "# Create a 5 x 5 x 5 tensor of all ones\n",
    "ones_tensor = ## YOUR CODE HERE ##\n",
    "\n",
    "# Create a 2 x 4 x 6 x 8 tensor with random values\n",
    "rand_tensor = ## YOUR CODE HERE ##"
   ]
  },
  {
   "cell_type": "code",
   "execution_count": null,
   "metadata": {},
   "outputs": [],
   "source": [
    "# Grading code. Run this cell to test your code!\n",
    "\n",
    "assert torch.is_tensor(zero_tensor), \"Your zero tensor is not a tensor!\"\n",
    "assert zero_tensor.shape == (3, 3), f\"Your zero tensor should have shape (3, 3). It has shape {zero_tensor.shape}.\"\n",
    "assert torch.sum(zero_tensor) == 0, \"Your zero tensor contains nonzero elements!\"\n",
    "\n",
    "assert torch.is_tensor(ones_tensor), \"Your ones tensor is not a tensor!\" \n",
    "assert ones_tensor.shape == (5, 5, 5), f\"Your ones tensor should have shape (5, 5, 5). It has shape {ones_tensor.shape}.\"\n",
    "assert torch.sum(ones_tensor) == 5 * 5 * 5, \"Your ones tensor contains non-one elements!\"\n",
    "\n",
    "assert torch.is_tensor(rand_tensor), \"Your random tensor is not a tensor!\"\n",
    "assert rand_tensor.shape == (2, 4, 6, 8), f\"Your random tensor should have shape (2, 4, 6, 8). It has shape {rand_tensor.shape}.\"\n",
    "\n",
    "print(\"Great work!\")"
   ]
  },
  {
   "cell_type": "code",
   "execution_count": null,
   "metadata": {},
   "outputs": [],
   "source": [
    "# Create your data as a list of lists\n",
    "data = ## YOUR CODE HERE ##\n",
    "\n",
    "# Create your tensor from your data\n",
    "upper_triangular = ## YOUR CODE HERE ##\n",
    "print(upper_triangular)"
   ]
  },
  {
   "cell_type": "code",
   "execution_count": null,
   "metadata": {},
   "outputs": [],
   "source": [
    "# Grading code. Run this cell to test your code!\n",
    "\n",
    "assert torch.is_tensor(upper_triangular), \"Your upper triangular tensor is not a tensor!\"\n",
    "assert torch.sum(upper_triangular) == 5, \"Your upper triangular tensor doesn't appear to have the correct values.\"\n",
    "assert upper_triangular.shape == (4, 4), f\"Your upper triangular tensor should have shape (4, 4) but has shape {upper_triangular.shape}.\"\n",
    "assert upper_triangular.dtype == torch.float16, f\"Your upper triangular tensor should have datatype torch.float16, but has datatype {upper_triangular.dtype}.\"\n",
    "\n",
    "print(\"Great work!\")"
   ]
  }
 ],
 "metadata": {
  "kernelspec": {
   "display_name": "Python 3.9.13 ('deep_learning22')",
   "language": "python",
   "name": "python3"
  },
  "language_info": {
   "codemirror_mode": {
    "name": "ipython",
    "version": 3
   },
   "file_extension": ".py",
   "mimetype": "text/x-python",
   "name": "python",
   "nbconvert_exporter": "python",
   "pygments_lexer": "ipython3",
   "version": "3.9.13"
  },
  "orig_nbformat": 4,
  "vscode": {
   "interpreter": {
    "hash": "fe290f7ea9eb195bd8e947cfe5177999ddcf84c562995d726e3fbe3e305183b4"
   }
  }
 },
 "nbformat": 4,
 "nbformat_minor": 2
}
